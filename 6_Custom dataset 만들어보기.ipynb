{
 "cells": [
  {
   "cell_type": "code",
   "execution_count": 1,
   "metadata": {},
   "outputs": [
    {
     "name": "stdout",
     "output_type": "stream",
     "text": [
      "current directory is [/Users/noah/Documents/study/lecture/edwith]\n"
     ]
    }
   ],
   "source": [
    "import numpy as np\n",
    "import os\n",
    "from scipy.misc import imread, imresize\n",
    "import matplotlib.pyplot as plt\n",
    "%matplotlib inline\n",
    "cwd = os.getcwd()\n",
    "print (\"current directory is [%s]\" % (cwd))"
   ]
  },
  {
   "cell_type": "code",
   "execution_count": 2,
   "metadata": {},
   "outputs": [
    {
     "name": "stdout",
     "output_type": "stream",
     "text": [
      "your images should be at\n",
      "  [0/3] ./data/benz/\n",
      "  [1/3] ./data/audi/\n",
      "  [2/3] ./data/infinity/\n",
      "data will be saved to \n",
      " [/Users/noah/Documents/study/lecture/edwith/data/custom_data.npz]\n"
     ]
    }
   ],
   "source": [
    "# directory locations\n",
    "paths = [\"./data/benz/\",\n",
    "        \"./data/audi/\",\n",
    "        \"./data/infinity/\"]\n",
    "\n",
    "categories = ['benz', 'audi', 'infinity']\n",
    "\n",
    "# configurations\n",
    "imgsize = [64,64]\n",
    "use_gray = 0\n",
    "data_name = \"custom_data\"\n",
    "\n",
    "print (\"your images should be at\")\n",
    "for i, path in enumerate(paths):\n",
    "    print (\"  [%d/%d] %s\" % (i, len(paths), path))\n",
    "print (\"data will be saved to \\n [%s]\" % (cwd + '/data/' + data_name + '.npz'))"
   ]
  },
  {
   "cell_type": "code",
   "execution_count": 3,
   "metadata": {},
   "outputs": [],
   "source": [
    "# rgb2gray\n",
    "def rgb2gray(rgb):\n",
    "    if len(rgb.shape) is 3:\n",
    "        return np.dot(rgb[...,:3], [0.299, 0.587, 0.114])\n",
    "    else:\n",
    "        return rgb"
   ]
  },
  {
   "cell_type": "code",
   "execution_count": 8,
   "metadata": {},
   "outputs": [
    {
     "name": "stdout",
     "output_type": "stream",
     "text": [
      "total 14 images\n"
     ]
    },
    {
     "name": "stderr",
     "output_type": "stream",
     "text": [
      "/Library/Frameworks/Python.framework/Versions/3.6/lib/python3.6/site-packages/ipykernel_launcher.py:13: DeprecationWarning: `imread` is deprecated!\n",
      "`imread` is deprecated in SciPy 1.0.0, and will be removed in 1.2.0.\n",
      "Use ``imageio.imread`` instead.\n",
      "  del sys.path[0]\n",
      "/Library/Frameworks/Python.framework/Versions/3.6/lib/python3.6/site-packages/ipykernel_launcher.py:22: DeprecationWarning: `imresize` is deprecated!\n",
      "`imresize` is deprecated in SciPy 1.0.0, and will be removed in 1.2.0.\n",
      "Use ``skimage.transform.resize`` instead.\n"
     ]
    }
   ],
   "source": [
    "# load images\n",
    "nclass = len(paths)\n",
    "valid_exts = [\".jpg\", \".gif\", \".png\", \".tga\", \".jpeg\"]\n",
    "imgcnt = 0\n",
    "\n",
    "for i, relpath in zip(range(nclass), paths):    # i는 인덱스, relpath는 상대경로\n",
    "    path = cwd + \"/\" + relpath    # 절대경로로 변환\n",
    "    flist = os.listdir(path)    # flist: path 안에 있는 모든 파일명의 리스트\n",
    "    for f in flist:    # f는 파일명 1개\n",
    "        if os.path.splitext(f)[1].lower() not in valid_exts:    # 확장자명 검사\n",
    "            continue\n",
    "        fullpath = os.path.join(path, f)    # 경로와 파일명을 합친다\n",
    "        currimg = imread(fullpath)    # 이미지 1개를 읽어온다\n",
    "        \n",
    "        # convert to gray\n",
    "        if use_gray:    # use_gray 변수가 1이면 흑백 이미지 사용\n",
    "            grayimg = rgb2gray(currimg)\n",
    "        else:\n",
    "            grayimg = currimg\n",
    "        \n",
    "        # resize\n",
    "        graysmall = imresize(grayimg, imgsize)/255.    # 사이즈 통일\n",
    "        grayvec = np.reshape(graysmall, (1,-1))    # 이미지를 1D array로 변환\n",
    "        \n",
    "        # save\n",
    "        # np.eye(shape) : identity matrix // [i:i+1] : 1차원이 아닌 2차원 벡터\n",
    "        curr_label = np.eye(nclass, nclass)[i:i+1, :]\n",
    "        if imgcnt is 0:\n",
    "            totalimg = grayvec\n",
    "            totallabel = curr_label\n",
    "        else:\n",
    "            totalimg = np.concatenate((totalimg, grayvec), axis=0)\n",
    "            totallabel = np.concatenate((totallabel, curr_label), axis=0)\n",
    "        imgcnt += 1\n",
    "print (\"total %d images\" % imgcnt)"
   ]
  },
  {
   "cell_type": "code",
   "execution_count": 29,
   "metadata": {},
   "outputs": [
    {
     "name": "stdout",
     "output_type": "stream",
     "text": [
      "shape of [totalimg] is [(14, 12288)]\n",
      "shape of [totallabel] is [(14, 3)]\n",
      "shape of [trainimg] is [(11, 12288)]\n",
      "shape of [trainlabel] is [(11, 3)]\n",
      "shape of [testimg] is [(3, 12288)]\n",
      "shape of [testlabel] is [(3, 3)]\n"
     ]
    }
   ],
   "source": [
    "def print_shape(string, x):\n",
    "    print (\"shape of [%s] is [%s]\" % (string, x.shape))\n",
    "    \n",
    "randidx = np.random.choice(list(range(imgcnt)), imgcnt, replace=False)\n",
    "trainidx = randidx[0:int(4*imgcnt/5)]\n",
    "testidx = randidx[int(4*imgcnt/5):imgcnt]\n",
    "trainimg = totalimg[trainidx, :]\n",
    "trainlabel = totallabel[trainidx, :]\n",
    "testimg = totalimg[testidx, :]\n",
    "testlabel = totallabel[testidx, :]\n",
    "\n",
    "print_shape(\"totalimg\", totalimg)\n",
    "print_shape(\"totallabel\", totallabel)\n",
    "print_shape(\"trainimg\", trainimg)\n",
    "print_shape(\"trainlabel\", trainlabel)\n",
    "print_shape(\"testimg\", testimg)\n",
    "print_shape(\"testlabel\", testlabel)"
   ]
  },
  {
   "cell_type": "code",
   "execution_count": 31,
   "metadata": {},
   "outputs": [
    {
     "name": "stdout",
     "output_type": "stream",
     "text": [
      "data saved\n"
     ]
    }
   ],
   "source": [
    "# save to numpy\n",
    "savepath = cwd + \"/data/\" + data_name + \".npz\"\n",
    "np.savez(savepath, trainimg=trainimg, trainlabel=trainlabel, testimg=testimg,\n",
    "         testlabel=testlabel, imgsize=imgsize, use_gray=use_gray, categories=categories)\n",
    "print (\"data saved\")"
   ]
  },
  {
   "cell_type": "code",
   "execution_count": 32,
   "metadata": {},
   "outputs": [
    {
     "name": "stdout",
     "output_type": "stream",
     "text": [
      "['trainimg', 'trainlabel', 'testimg', 'testlabel', 'imgsize', 'use_gray', 'categories']\n",
      "[11] training images\n",
      "[3] test images\n"
     ]
    }
   ],
   "source": [
    "# load\n",
    "cwd = os.getcwd()\n",
    "loadpath = cwd + \"/data/\" + data_name + \".npz\"\n",
    "l = np.load(loadpath)\n",
    "print (l.files)\n",
    "\n",
    "# parse data\n",
    "trainimg_loaded = l['trainimg']\n",
    "trainlabel_loaded = l['trainlabel']\n",
    "testimg_loaded = l['testimg']\n",
    "testlabel_loaded = l['testlabel']\n",
    "categories_loaded = l['categories']\n",
    "\n",
    "print (\"[%d] training images\" % (trainimg_loaded.shape[0]))\n",
    "print (\"[%d] test images\" % (testimg_loaded.shape[0]))"
   ]
  },
  {
   "cell_type": "code",
   "execution_count": 36,
   "metadata": {},
   "outputs": [
    {
     "data": {
      "text/plain": [
       "['trainimg',\n",
       " 'trainlabel',\n",
       " 'testimg',\n",
       " 'testlabel',\n",
       " 'imgsize',\n",
       " 'use_gray',\n",
       " 'categories']"
      ]
     },
     "execution_count": 36,
     "metadata": {},
     "output_type": "execute_result"
    }
   ],
   "source": [
    "               "
   ]
  }
 ],
 "metadata": {
  "kernelspec": {
   "display_name": "venv_study",
   "language": "python",
   "name": "venv_study"
  },
  "language_info": {
   "codemirror_mode": {
    "name": "ipython",
    "version": 3
   },
   "file_extension": ".py",
   "mimetype": "text/x-python",
   "name": "python",
   "nbconvert_exporter": "python",
   "pygments_lexer": "ipython3",
   "version": "3.6.3"
  }
 },
 "nbformat": 4,
 "nbformat_minor": 2
}
