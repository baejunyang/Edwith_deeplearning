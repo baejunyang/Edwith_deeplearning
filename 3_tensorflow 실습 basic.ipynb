{
 "cells": [
  {
   "cell_type": "code",
   "execution_count": 1,
   "metadata": {},
   "outputs": [
    {
     "name": "stderr",
     "output_type": "stream",
     "text": [
      "/Users/noah/venv_study/lib/python3.6/importlib/_bootstrap.py:219: RuntimeWarning: compiletime version 3.5 of module 'tensorflow.python.framework.fast_tensor_util' does not match runtime version 3.6\n",
      "  return f(*args, **kwds)\n"
     ]
    }
   ],
   "source": [
    "import numpy as np\n",
    "import tensorflow as tf"
   ]
  },
  {
   "cell_type": "code",
   "execution_count": 2,
   "metadata": {},
   "outputs": [
    {
     "name": "stdout",
     "output_type": "stream",
     "text": [
      "OPEN SESSION\n"
     ]
    }
   ],
   "source": [
    "# session\n",
    "# making computational graph\n",
    "sess = tf.Session()\n",
    "print (\"OPEN SESSION\")"
   ]
  },
  {
   "cell_type": "code",
   "execution_count": 4,
   "metadata": {},
   "outputs": [
    {
     "name": "stdout",
     "output_type": "stream",
     "text": [
      "TYPE : \n",
      " <class 'tensorflow.python.framework.ops.Tensor'>\n",
      "VALUE : \n",
      " Tensor(\"Const:0\", shape=(), dtype=string)\n"
     ]
    }
   ],
   "source": [
    "# constant\n",
    "def print_tf(x):\n",
    "    print (\"TYPE : \\n {}\".format(type(x)))\n",
    "    print (\"VALUE : \\n {}\".format(x))\n",
    "    \n",
    "hello = tf.constant(\"HELLO. IT's Me. \")\n",
    "print_tf(hello)\n",
    "\n",
    "hello_out = sess.run(hello)\n",
    "print_tf(hello_out)"
   ]
  },
  {
   "cell_type": "code",
   "execution_count": 9,
   "metadata": {},
   "outputs": [
    {
     "name": "stdout",
     "output_type": "stream",
     "text": [
      "TYPE : \n",
      " <class 'tensorflow.python.framework.ops.Tensor'>\n",
      "VALUE : \n",
      " Tensor(\"Add_3:0\", shape=(), dtype=float32)\n",
      "TYPE : \n",
      " <class 'numpy.float32'>\n",
      "VALUE : \n",
      " 4.0\n"
     ]
    }
   ],
   "source": [
    "# operator\n",
    "a = tf.constant(1.5)\n",
    "b = tf.constant(2.5)\n",
    "\n",
    "a_plus_b = tf.add(a, b)\n",
    "print_tf(a_plus_b)\n",
    "\n",
    "a_plus_b_out = sess.run(a_plus_b)\n",
    "print_tf(a_plus_b_out)"
   ]
  },
  {
   "cell_type": "code",
   "execution_count": 10,
   "metadata": {},
   "outputs": [
    {
     "name": "stdout",
     "output_type": "stream",
     "text": [
      "TYPE : \n",
      " <class 'tensorflow.python.ops.variables.Variable'>\n",
      "VALUE : \n",
      " <tf.Variable 'Variable:0' shape=(5, 2) dtype=float32_ref>\n"
     ]
    }
   ],
   "source": [
    "# variable\n",
    "weight = tf.Variable(tf.random_normal([5,2], stddev=0.1))\n",
    "print_tf(weight)\n",
    "\n",
    "# print_tf(weight_out)    <--초기화를 하지 않아서 에러가 난다\n",
    "\n",
    "init = tf.global_variables_initializer()\n",
    "# initializer를 run 해 주어야 한다\n",
    "sess.run(init)\n",
    "print (\"INITIALIZING ALL VARIABLES\")\n",
    "\n",
    "weight_out = sess.run(weight)\n",
    "print_tf(weight_out)"
   ]
  },
  {
   "cell_type": "code",
   "execution_count": 17,
   "metadata": {},
   "outputs": [
    {
     "name": "stdout",
     "output_type": "stream",
     "text": [
      "TYPE : \n",
      " <class 'tensorflow.python.framework.ops.Tensor'>\n",
      "VALUE : \n",
      " Tensor(\"Placeholder_3:0\", shape=(?, 5), dtype=float32)\n",
      "TYPE : \n",
      " <class 'tensorflow.python.framework.ops.Tensor'>\n",
      "VALUE : \n",
      " Tensor(\"MatMul_2:0\", shape=(?, 2), dtype=float32)\n",
      "TYPE : \n",
      " <class 'numpy.ndarray'>\n",
      "VALUE : \n",
      " [[ 0.20357974  0.17346916]]\n",
      "TYPE : \n",
      " <class 'numpy.ndarray'>\n",
      "VALUE : \n",
      " [[ 0.24691315  0.04272497]\n",
      " [ 0.25919431  0.03840144]\n",
      " [ 0.07148231  0.13009778]\n",
      " [ 0.15079619  0.11451115]\n",
      " [ 0.21408217  0.17478085]\n",
      " [ 0.21616842  0.13854551]\n",
      " [ 0.24321294  0.07900977]\n",
      " [ 0.15919243  0.13738248]\n",
      " [ 0.21091644  0.11827208]\n",
      " [ 0.20855103  0.14506118]]\n"
     ]
    }
   ],
   "source": [
    "# placeholder\n",
    "\n",
    "# None: 데이터 개수는 미정 , 5: 데이터 차원 수\n",
    "x = tf.placeholder(tf.float32, [None, 5])\n",
    "print_tf(x)\n",
    "\n",
    "oper = tf.matmul(x, weight)\n",
    "print_tf(oper)\n",
    "\n",
    "# placeholder에 데이터 집어넣기\n",
    "data = np.random.rand(1,5)\n",
    "oper_out = sess.run(oper, feed_dict={x: data})\n",
    "print_tf(oper_out)\n",
    "\n",
    "data = np.random.rand(10,5)\n",
    "oper_out = sess.run(oper, feed_dict={x: data})\n",
    "print_tf(oper_out)"
   ]
  }
 ],
 "metadata": {
  "kernelspec": {
   "display_name": "venv_study",
   "language": "python",
   "name": "venv_study"
  },
  "language_info": {
   "codemirror_mode": {
    "name": "ipython",
    "version": 3
   },
   "file_extension": ".py",
   "mimetype": "text/x-python",
   "name": "python",
   "nbconvert_exporter": "python",
   "pygments_lexer": "ipython3",
   "version": "3.6.3"
  }
 },
 "nbformat": 4,
 "nbformat_minor": 2
}
