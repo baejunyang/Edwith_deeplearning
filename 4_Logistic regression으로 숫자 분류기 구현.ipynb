{
 "cells": [
  {
   "cell_type": "code",
   "execution_count": 1,
   "metadata": {},
   "outputs": [],
   "source": [
    "import numpy as np\n",
    "import tensorflow as tf\n",
    "from tensorflow.examples.tutorials.mnist import input_data\n",
    "import matplotlib.pyplot as plt"
   ]
  },
  {
   "cell_type": "code",
   "execution_count": 2,
   "metadata": {},
   "outputs": [
    {
     "name": "stdout",
     "output_type": "stream",
     "text": [
      "Extracting mnist_data/train-images-idx3-ubyte.gz\n",
      "Extracting mnist_data/train-labels-idx1-ubyte.gz\n",
      "Extracting mnist_data/t10k-images-idx3-ubyte.gz\n",
      "Extracting mnist_data/t10k-labels-idx1-ubyte.gz\n"
     ]
    }
   ],
   "source": [
    "mnist = input_data.read_data_sets('mnist_data/', one_hot=True)\n",
    "trainimg = mnist.train.images    # trainimg.shape = [55000, 784]\n",
    "trainlabel = mnist.train.labels\n",
    "testimg = mnist.test.images\n",
    "testlabel = mnist.test.labels"
   ]
  },
  {
   "cell_type": "code",
   "execution_count": 16,
   "metadata": {},
   "outputs": [
    {
     "name": "stdout",
     "output_type": "stream",
     "text": [
      "Graph Ready\n"
     ]
    }
   ],
   "source": [
    "# create graph\n",
    "x = tf.placeholder(tf.float32, [None, 784])\n",
    "y = tf.placeholder(tf.float32, [None, 10])\n",
    "W = tf.Variable(tf.zeros([784,10]))\n",
    "b = tf.Variable(tf.zeros([10]))\n",
    "\n",
    "# logistic regression model\n",
    "actv = tf.nn.softmax(tf.matmul(x, W) + b)\n",
    "cost = tf.reduce_mean(-tf.reduce_sum(y*tf.log(actv), reduction_indices=1))    # cross_entropy\n",
    "\n",
    "# tf.log(actv).shape = [None, 10]\n",
    "# y*tf.log(actv).shape = [None, 10]\n",
    "# tf.reduce_sum(y*tf.log(actv), reduction_indices=1).shape = [None]    <-- 한 row를 합한다\n",
    "# tf.reduce_sum(y*tf.log(actv), reduction_indices=0).shape = [10]    <-- 한 column을 합한다\n",
    "# tf.reduce_mean(tf.reduce_sum(y*tf.log(actv), reduction_indices=1)).shape = []   <-- 전부 평균\n",
    "\n",
    "# optimizer\n",
    "learning_rate = 0.01\n",
    "optm = tf.train.GradientDescentOptimizer(learning_rate).minimize(cost)\n",
    "print (\"Graph Ready\")"
   ]
  },
  {
   "cell_type": "code",
   "execution_count": 22,
   "metadata": {},
   "outputs": [],
   "source": [
    "# prediction\n",
    "pred = tf.equal(tf.argmax(actv, 1), tf.argmax(y,1))    # pred.shape = [None]\n",
    "\n",
    "# accuracy\n",
    "accr = tf.reduce_mean(tf.cast(pred, tf.float32))    # tf.cast.shape = [None], boolean을 숫자로 바꿔준다\n",
    "\n",
    "# initializer\n",
    "init= tf.global_variables_initializer()"
   ]
  },
  {
   "cell_type": "code",
   "execution_count": 27,
   "metadata": {},
   "outputs": [
    {
     "name": "stdout",
     "output_type": "stream",
     "text": [
      "Epoch: [0/50]    Cost: [1.176160038926386]    train_acc: [0.8600000143051147]    test_acc: [0.8508999943733215]\n",
      "Epoch: [5/50]    Cost: [0.4377458569407464]    train_acc: [0.8700000047683716]    test_acc: [0.8950999975204468]\n",
      "Epoch: [10/50]    Cost: [0.3818331207199531]    train_acc: [0.8899999856948853]    test_acc: [0.9042999744415283]\n",
      "Epoch: [15/50]    Cost: [0.3581222665580835]    train_acc: [0.949999988079071]    test_acc: [0.9085999727249146]\n",
      "Epoch: [20/50]    Cost: [0.34232046124610055]    train_acc: [0.8500000238418579]    test_acc: [0.9122999906539917]\n",
      "Epoch: [25/50]    Cost: [0.32884129938754164]    train_acc: [0.9399999976158142]    test_acc: [0.9144999980926514]\n",
      "Epoch: [30/50]    Cost: [0.3268305748159234]    train_acc: [0.8600000143051147]    test_acc: [0.9154999852180481]\n",
      "Epoch: [35/50]    Cost: [0.31407081335783016]    train_acc: [0.9399999976158142]    test_acc: [0.9172000288963318]\n",
      "Epoch: [40/50]    Cost: [0.3112525211681019]    train_acc: [0.9300000071525574]    test_acc: [0.9182000160217285]\n",
      "Epoch: [45/50]    Cost: [0.3132439988580616]    train_acc: [0.8999999761581421]    test_acc: [0.91839998960495]\n",
      "\n",
      "\n",
      " DONE\n"
     ]
    }
   ],
   "source": [
    "# train model\n",
    "training_epochs = 50\n",
    "batch_size = 100\n",
    "display_step = 5\n",
    "\n",
    "# session\n",
    "sess = tf.Session()\n",
    "sess.run(init)\n",
    "\n",
    "# mini_batch learning\n",
    "for epoch in range(trainin_epochs):    # 매 epoch 마다\n",
    "    avg_cost = 0\n",
    "    num_batch = int(trainimg.shape[0]/batch_size)    # 1 epoch당 batch가 몇번 도는지 계산 = num_batch\n",
    "    for i in range(num_batch):    # 매 batch 마다\n",
    "        batch_xs, batch_ys = mnist.train.next_batch(batch_size)\n",
    "        sess.run(optm, feed_dict={x: batch_xs, y: batch_ys})\n",
    "        avg_cost += sess.run(cost, feed_dict={x: batch_xs, y: batch_ys})/num_batch\n",
    "    \n",
    "    # display\n",
    "    if epoch % display_step == 0:\n",
    "        feeds_train = {x: batch_xs, y: batch_ys}\n",
    "        feeds_test = {x: mnist.test.images, y: mnist.test.labels}\n",
    "        train_acc = sess.run(accr, feed_dict=feeds_train)\n",
    "        test_acc = sess.run(accr, feed_dict=feeds_test)\n",
    "        print (\"Epoch: [{}/{}]    Cost: [{}]    train_acc: [{}]    test_acc: [{}]\".format(\n",
    "                epoch, training_epochs, avg_cost, train_acc, test_acc))\n",
    "\n",
    "print (\"\\n\\n DONE\")"
   ]
  }
 ],
 "metadata": {
  "kernelspec": {
   "display_name": "venv_study",
   "language": "python",
   "name": "venv_study"
  },
  "language_info": {
   "codemirror_mode": {
    "name": "ipython",
    "version": 3
   },
   "file_extension": ".py",
   "mimetype": "text/x-python",
   "name": "python",
   "nbconvert_exporter": "python",
   "pygments_lexer": "ipython3",
   "version": "3.6.3"
  }
 },
 "nbformat": 4,
 "nbformat_minor": 2
}
