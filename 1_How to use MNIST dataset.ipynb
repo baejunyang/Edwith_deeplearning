{
 "cells": [
  {
   "cell_type": "code",
   "execution_count": 1,
   "metadata": {},
   "outputs": [
    {
     "name": "stderr",
     "output_type": "stream",
     "text": [
      "/Users/noah/venv_study/lib/python3.6/importlib/_bootstrap.py:219: RuntimeWarning: compiletime version 3.5 of module 'tensorflow.python.framework.fast_tensor_util' does not match runtime version 3.6\n",
      "  return f(*args, **kwds)\n"
     ]
    },
    {
     "name": "stdout",
     "output_type": "stream",
     "text": [
      "Tensoflow version 1.4.0\n"
     ]
    }
   ],
   "source": [
    "import numpy as np\n",
    "import tensorflow as tf\n",
    "from tensorflow.examples.tutorials.mnist import input_data\n",
    "import matplotlib.pyplot as plt\n",
    "%matplotlib inline\n",
    "\n",
    "print (\"Tensoflow version {}\".format(tf.__version__))"
   ]
  },
  {
   "cell_type": "code",
   "execution_count": 2,
   "metadata": {},
   "outputs": [
    {
     "name": "stdout",
     "output_type": "stream",
     "text": [
      "Successfully downloaded train-images-idx3-ubyte.gz 9912422 bytes.\n",
      "Extracting mnist_data/train-images-idx3-ubyte.gz\n",
      "Successfully downloaded train-labels-idx1-ubyte.gz 28881 bytes.\n",
      "Extracting mnist_data/train-labels-idx1-ubyte.gz\n",
      "Successfully downloaded t10k-images-idx3-ubyte.gz 1648877 bytes.\n",
      "Extracting mnist_data/t10k-images-idx3-ubyte.gz\n",
      "Successfully downloaded t10k-labels-idx1-ubyte.gz 4542 bytes.\n",
      "Extracting mnist_data/t10k-labels-idx1-ubyte.gz\n"
     ]
    }
   ],
   "source": [
    "# mnist data 내려받기\n",
    "mnist = input_data.read_data_sets('mnist_data/', one_hot=True)"
   ]
  },
  {
   "cell_type": "code",
   "execution_count": 3,
   "metadata": {},
   "outputs": [],
   "source": [
    "# Train image와 label을 값으로 확인\n",
    "def print_np(x):\n",
    "    print ('shape : {}'.format(x.shape,))\n",
    "    print ('values look like \\n {}'.format(x))\n",
    "\n",
    "print_np(mnist.train.images)\n",
    "print_np(mnist.train.labels)"
   ]
  },
  {
   "cell_type": "code",
   "execution_count": 6,
   "metadata": {
    "collapsed": true
   },
   "outputs": [
    {
     "data": {
      "image/png": "[encoded data removed]",
      "text/plain": [
       "<matplotlib.figure.Figure at 0x11e9a4908>"
      ]
     },
     "metadata": {},
     "output_type": "display_data"
    },
    {
     "data": {
      "image/png": "[encoded data removed]",
      "text/plain": [
       "<matplotlib.figure.Figure at 0x124782550>"
      ]
     },
     "metadata": {},
     "output_type": "display_data"
    },
    {
     "data": {
      "image/png": "[encoded data removed]",
      "text/plain": [
       "<matplotlib.figure.Figure at 0x1247c59b0>"
      ]
     },
     "metadata": {},
     "output_type": "display_data"
    }
   ],
   "source": [
    "# 임의의 3개 데이터를 그려본다\n",
    "ntrain = mnist.train.images.shape[0]\n",
    "nsample = 3\n",
    "randidx = np.random.randint(ntrain, size=nsample)\n",
    "for i in randidx:\n",
    "    imgvec = mnist.train.images[i, :]\n",
    "    labelvec = mnist.train.labels[i, :]\n",
    "    img = np.reshape(imgvec, (28,28))\n",
    "    label = np.argmax(labelvec)\n",
    "    plt.matshow(img, cmap=plt.get_cmap('gray'))\n",
    "    plt.title(\"[{}] data / label is [{}]\".format(i, label))"
   ]
  },
  {
   "cell_type": "code",
   "execution_count": 9,
   "metadata": {},
   "outputs": [
    {
     "data": {
      "text/plain": [
       "array([5, 7, 2, 0, 8, 1, 6, 4, 3, 9])"
      ]
     },
     "execution_count": 9,
     "metadata": {},
     "output_type": "execute_result"
    }
   ],
   "source": [
    "# Random minibatch 만들기\n",
    "\n",
    "ntrain = 10\n",
    "randindices = np.random.permutation(ntrain)\n",
    "randindices"
   ]
  },
  {
   "cell_type": "code",
   "execution_count": 13,
   "metadata": {},
   "outputs": [
    {
     "name": "stdout",
     "output_type": "stream",
     "text": [
      "iter: [0] , batch index: [5 7 2 0]\n",
      "   shape of XBATCH: (4, 784)\n",
      "   shape of YBATCH: (4, 10)\n",
      "iter: [1] , batch index: [8 1 6 4]\n",
      "   shape of XBATCH: (4, 784)\n",
      "   shape of YBATCH: (4, 10)\n",
      "iter: [2] , batch index: [3 9]\n",
      "   shape of XBATCH: (2, 784)\n",
      "   shape of YBATCH: (2, 10)\n"
     ]
    }
   ],
   "source": [
    "ntrain = 10\n",
    "nbatch = 4\n",
    "niter = ntrain // nbatch + 1\n",
    "for i in range(niter):\n",
    "    currindices = randindices[i*nbatch: (i+1)*nbatch]\n",
    "    print (\"iter: [{}] , batch index: {}\".format(i, currindices))\n",
    "    \n",
    "    xbatch = mnist.train.images[currindices, :]\n",
    "    ybatch = mnist.train.labels[currindices, :]\n",
    "    print (\"   shape of XBATCH: {}\".format(xbatch.shape,))\n",
    "    print (\"   shape of YBATCH: {}\".format(ybatch.shape,))"
   ]
  },
  {
   "cell_type": "code",
   "execution_count": null,
   "metadata": {},
   "outputs": [],
   "source": []
  }
 ],
 "metadata": {
  "kernelspec": {
   "display_name": "venv_study",
   "language": "python",
   "name": "venv_study"
  },
  "language_info": {
   "codemirror_mode": {
    "name": "ipython",
    "version": 3
   },
   "file_extension": ".py",
   "mimetype": "text/x-python",
   "name": "python",
   "nbconvert_exporter": "python",
   "pygments_lexer": "ipython3",
   "version": "3.6.3"
  }
 },
 "nbformat": 4,
 "nbformat_minor": 2
}
